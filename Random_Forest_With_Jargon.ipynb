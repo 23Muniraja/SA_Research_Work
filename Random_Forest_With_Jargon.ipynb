{
 "cells": [
  {
   "cell_type": "code",
   "execution_count": 1,
   "id": "4113ec04-5759-40d5-9594-ef9db191792d",
   "metadata": {},
   "outputs": [],
   "source": [
    "gaming_jargon_dict = {\n",
    "    \"gg\": \"good game\",\n",
    "    \"op\": \"overpowered\",\n",
    "    \"nerf\": \"reduce power\",\n",
    "    \"buff\": \"increase power\",\n",
    "    \"noob\": \"beginner\",\n",
    "    \"afk\": \"away from keyboard\",\n",
    "    \"camp\": \"staying in one place\",\n",
    "    \"clutch\": \"critical moment win\",\n",
    "    \"dps\": \"damage per second\",\n",
    "    \"hp\": \"health points\",\n",
    "    \"mp\": \"mana points\",\n",
    "    \"respawn\": \"reappear\",\n",
    "    \"lag\": \"network delay\",\n",
    "    \"meta\": \"current best strategy\",\n",
    "    \"tilt\": \"frustrated play\",\n",
    "    \"p2w\": \"pay to win\",\n",
    "    \"smurf\": \"high-level player using new account\",\n",
    "    \"wallbang\": \"shooting through walls\",\n",
    "    \"frag\": \"kill\",\n",
    "    \"wallhack\": \"seeing through walls cheat\",\n",
    "    \"rng\": \"random outcome\",\n",
    "    \"xp\": \"experience points\",\n",
    "    \"hitbox\": \"damage detection area\",\n",
    "    \"strafe\": \"side movement\",\n",
    "    \"rush\": \"fast attack\",\n",
    "    \"one-tap\": \"single shot kill\"\n",
    "}\n"
   ]
  },
  {
   "cell_type": "code",
   "execution_count": 2,
   "id": "735664dd-aa7c-45d9-a7ec-5c8f12c9dfc5",
   "metadata": {},
   "outputs": [],
   "source": [
    "import re\n",
    "\n",
    "def preprocess_text(text):\n",
    "    if isinstance(text, float):  # Handling missing values\n",
    "        return \"\"\n",
    "\n",
    "    text = text.lower()  # Convert to lowercase\n",
    "    text = re.sub(r'\\W', ' ', text)  # Remove punctuation\n",
    "\n",
    "    # Replace gaming jargon\n",
    "    for slang, replacement in gaming_jargon_dict.items():\n",
    "        text = text.replace(slang, replacement)\n",
    "\n",
    "    return text.strip()\n"
   ]
  },
  {
   "cell_type": "code",
   "execution_count": 5,
   "id": "89637936-f539-49db-85ae-a9ebf91fd122",
   "metadata": {},
   "outputs": [],
   "source": [
    "import pandas as pd"
   ]
  },
  {
   "cell_type": "code",
   "execution_count": 7,
   "id": "4782764c-45af-486e-9a0e-75794387c589",
   "metadata": {},
   "outputs": [],
   "source": [
    "train_df = pd.read_csv(\"train_data.csv\")\n",
    "test_df = pd.read_csv(\"test_data.csv\")\n"
   ]
  },
  {
   "cell_type": "code",
   "execution_count": 8,
   "id": "75eb8329-3f1b-4859-923c-ace31a7e960d",
   "metadata": {},
   "outputs": [],
   "source": [
    "# Apply preprocessing to reviews in both train and test sets\n",
    "train_df[\"cleaned_review\"] = train_df[\"review\"].apply(preprocess_text)\n",
    "test_df[\"cleaned_review\"] = test_df[\"review\"].apply(preprocess_text)"
   ]
  },
  {
   "cell_type": "code",
   "execution_count": 10,
   "id": "8ae7b8d6-5aae-4eab-94b9-7eca77fe9942",
   "metadata": {},
   "outputs": [
    {
     "name": "stdout",
     "output_type": "stream",
     "text": [
      "🔹 Jargon Replacement Count per Review: Counter({0: 9449, 1: 852, 2: 169, 3: 61, 4: 31, 5: 20, 6: 17, 7: 16, 8: 12, 9: 10, 10: 8, 12: 5, 13: 4, 21: 3, 11: 3, 22: 2, 19: 2, 14: 2, 29: 1, 45: 1, 48: 1, 15: 1, 106: 1, 32: 1, 17: 1})\n"
     ]
    }
   ],
   "source": [
    "from collections import Counter\n",
    "import re\n",
    "\n",
    "# Dictionary to store replacement counts\n",
    "jargon_replacement_counts = Counter()\n",
    "\n",
    "def preprocess_text_with_count(text):\n",
    "    if isinstance(text, float):  # Handling missing values\n",
    "        return \"\"\n",
    "\n",
    "    text = text.lower()  # Convert to lowercase\n",
    "    text = re.sub(r'\\W', ' ', text)  # Remove punctuation\n",
    "    \n",
    "    replacement_count = 0  # Count replacements per review\n",
    "\n",
    "    for slang, replacement in gaming_jargon_dict.items():\n",
    "        if slang in text:\n",
    "            replacement_count += text.count(slang)  # Count occurrences\n",
    "            text = text.replace(slang, replacement)\n",
    "\n",
    "    jargon_replacement_counts[replacement_count] += 1  # Store count\n",
    "\n",
    "    return text.strip()\n",
    "\n",
    "# Apply function to both datasets\n",
    "train_df[\"cleaned_review\"] = train_df[\"review\"].apply(preprocess_text_with_count)\n",
    "test_df[\"cleaned_review\"] = test_df[\"review\"].apply(preprocess_text_with_count)\n",
    "\n",
    "# Display the jargon replacement statistics\n",
    "print(\"🔹 Jargon Replacement Count per Review:\", jargon_replacement_counts)\n"
   ]
  },
  {
   "cell_type": "code",
   "execution_count": 11,
   "id": "8d2ca9f7-4074-473a-bc91-68161ec5ede5",
   "metadata": {},
   "outputs": [
    {
     "name": "stdout",
     "output_type": "stream",
     "text": [
      "🔹 Total Reviews with Jargon Replacements: 24\n"
     ]
    }
   ],
   "source": [
    "num_reviews_with_replacements = sum(1 for count in jargon_replacement_counts if count > 0)\n",
    "print(f\"🔹 Total Reviews with Jargon Replacements: {num_reviews_with_replacements}\")\n"
   ]
  },
  {
   "cell_type": "code",
   "execution_count": 12,
   "id": "922b2edd-b688-47a7-b6a9-c61fc4c5a51b",
   "metadata": {},
   "outputs": [
    {
     "name": "stdout",
     "output_type": "stream",
     "text": [
      "🔹 Most Frequently Replaced Jargon Terms: [('op', 978), ('mp', 897), ('gg', 356), ('xp', 279), ('lag', 50), ('rush', 31), ('camp', 27), ('noob', 17), ('hp', 13), ('respawn', 12)]\n"
     ]
    }
   ],
   "source": [
    "jargon_usage = Counter()\n",
    "\n",
    "for review in train_df[\"review\"].dropna().tolist() + test_df[\"review\"].dropna().tolist():\n",
    "    review = review.lower()\n",
    "    for slang in gaming_jargon_dict.keys():\n",
    "        if slang in review:\n",
    "            jargon_usage[slang] += review.count(slang)\n",
    "\n",
    "print(\"🔹 Most Frequently Replaced Jargon Terms:\", jargon_usage.most_common(10))\n"
   ]
  },
  {
   "cell_type": "code",
   "execution_count": 13,
   "id": "648e1283-3fa6-49ad-9bd3-5e09cf009e35",
   "metadata": {},
   "outputs": [
    {
     "name": "stdout",
     "output_type": "stream",
     "text": [
      "🔹 Shape of X_train: (8538, 5000)\n",
      "🔹 Shape of X_test: (2135, 5000)\n",
      "🔹 Length of y_train: 8538\n",
      "🔹 Length of y_test: 2135\n"
     ]
    }
   ],
   "source": [
    "from sklearn.feature_extraction.text import TfidfVectorizer\n",
    "\n",
    "# Initialize TF-IDF Vectorizer\n",
    "vectorizer = TfidfVectorizer(max_features=5000)  # Limit vocabulary size to 5000 words\n",
    "\n",
    "# Fit on training data and transform both train & test sets\n",
    "X_train_tfidf = vectorizer.fit_transform(train_df[\"cleaned_review\"])  \n",
    "X_test_tfidf = vectorizer.transform(test_df[\"cleaned_review\"])\n",
    "\n",
    "# Convert labels to integer format\n",
    "y_train = train_df[\"sentiment\"].astype(int)\n",
    "y_test = test_df[\"sentiment\"].astype(int)\n",
    "\n",
    "# Debugging checks\n",
    "print(\"🔹 Shape of X_train:\", X_train_tfidf.shape)  # Should match number of rows in train_df\n",
    "print(\"🔹 Shape of X_test:\", X_test_tfidf.shape)    # Should match number of rows in test_df\n",
    "print(\"🔹 Length of y_train:\", len(y_train))\n",
    "print(\"🔹 Length of y_test:\", len(y_test))\n"
   ]
  },
  {
   "cell_type": "code",
   "execution_count": 14,
   "id": "2c07f7fc-7b92-4df2-b070-93b62963ca40",
   "metadata": {},
   "outputs": [
    {
     "name": "stdout",
     "output_type": "stream",
     "text": [
      "\n",
      "🔹 Model Accuracy: 0.8637002341920375\n",
      "\n",
      "🔹 Classification Report:\n",
      "               precision    recall  f1-score   support\n",
      "\n",
      "           0       1.00      0.01      0.03       295\n",
      "           1       0.86      1.00      0.93      1840\n",
      "\n",
      "    accuracy                           0.86      2135\n",
      "   macro avg       0.93      0.51      0.48      2135\n",
      "weighted avg       0.88      0.86      0.80      2135\n",
      "\n"
     ]
    }
   ],
   "source": [
    "from sklearn.ensemble import RandomForestClassifier\n",
    "from sklearn.metrics import accuracy_score, classification_report\n",
    "\n",
    "# Initialize Random Forest Classifier\n",
    "rf_model = RandomForestClassifier(n_estimators=300, max_depth=20, random_state=42)\n",
    "\n",
    "# Train the model\n",
    "rf_model.fit(X_train_tfidf, y_train)\n",
    "\n",
    "# Predict on test data\n",
    "y_pred = rf_model.predict(X_test_tfidf)\n",
    "\n",
    "# Evaluate the model\n",
    "accuracy = accuracy_score(y_test, y_pred)\n",
    "print(\"\\n🔹 Model Accuracy:\", accuracy)\n",
    "print(\"\\n🔹 Classification Report:\\n\", classification_report(y_test, y_pred))\n"
   ]
  },
  {
   "cell_type": "code",
   "execution_count": null,
   "id": "e00c228f-12c1-47a9-8926-8d161ec9efec",
   "metadata": {},
   "outputs": [],
   "source": []
  }
 ],
 "metadata": {
  "kernelspec": {
   "display_name": "Python 3 (ipykernel)",
   "language": "python",
   "name": "python3"
  },
  "language_info": {
   "codemirror_mode": {
    "name": "ipython",
    "version": 3
   },
   "file_extension": ".py",
   "mimetype": "text/x-python",
   "name": "python",
   "nbconvert_exporter": "python",
   "pygments_lexer": "ipython3",
   "version": "3.10.11"
  }
 },
 "nbformat": 4,
 "nbformat_minor": 5
}
